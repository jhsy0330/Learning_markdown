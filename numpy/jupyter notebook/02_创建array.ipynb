{
 "cells": [
  {
   "cell_type": "code",
   "execution_count": 2,
   "id": "74c17488",
   "metadata": {},
   "outputs": [],
   "source": [
    "import numpy as np"
   ]
  },
  {
   "cell_type": "markdown",
   "id": "03d0b066",
   "metadata": {},
   "source": [
    "### array创建数组\n",
    "\n",
    "numpy.array(object, dtype = None, copy = True, order = None, subok = False, ndmin = 0)"
   ]
  },
  {
   "cell_type": "code",
   "execution_count": 3,
   "id": "583105e0",
   "metadata": {},
   "outputs": [
    {
     "data": {
      "text/plain": [
       "(array([1, 2, 3, 4, 5, 6, 7, 8, 9]),\n",
       " array([[1, 2, 3, 4],\n",
       "        [5, 6, 7, 8]]),\n",
       " array([[1, 2, 3],\n",
       "        [4, 5, 6],\n",
       "        [7, 8, 9]]))"
      ]
     },
     "execution_count": 3,
     "metadata": {},
     "output_type": "execute_result"
    }
   ],
   "source": [
    "a = np.array([1,2,3,4,5,6,7,8,9])\n",
    "b = np.array([[1,2,3,4],[5,6,7,8]])\n",
    "c = np.array([[1,2,3],[4,5,6],[7,8,9]])\n",
    "a,b,c"
   ]
  },
  {
   "cell_type": "code",
   "execution_count": 4,
   "id": "2b52910b",
   "metadata": {},
   "outputs": [
    {
     "data": {
      "text/plain": [
       "array([[1, 2, 3, 4, 5, 6, 7, 8, 9]])"
      ]
     },
     "execution_count": 4,
     "metadata": {},
     "output_type": "execute_result"
    }
   ],
   "source": [
    "np.array([1,2,3,4,5,6,7,8,9], ndmin = 2)"
   ]
  },
  {
   "cell_type": "markdown",
   "id": "7d1117fe",
   "metadata": {},
   "source": [
    "### arrange创建数组\n",
    "\n",
    "numpy.arange(start, stop, step, dtype)"
   ]
  },
  {
   "cell_type": "code",
   "execution_count": 6,
   "id": "be10cdc4",
   "metadata": {},
   "outputs": [
    {
     "data": {
      "text/plain": [
       "(array([0, 1, 2, 3, 4, 5, 6, 7, 8, 9]),\n",
       " array([0, 2, 4, 6, 8]),\n",
       " array([0. , 0.1, 0.2, 0.3, 0.4, 0.5, 0.6, 0.7, 0.8, 0.9]))"
      ]
     },
     "execution_count": 6,
     "metadata": {},
     "output_type": "execute_result"
    }
   ],
   "source": [
    "a = np.arange(10)\n",
    "b = np.arange(0, 10, 2)\n",
    "c = np.arange(0, 1, 0.1, dtype=float)\n",
    "a,b,c"
   ]
  },
  {
   "cell_type": "code",
   "execution_count": 13,
   "id": "352dea51",
   "metadata": {},
   "outputs": [
    {
     "data": {
      "text/plain": [
       "array([[0, 1, 2, 3],\n",
       "       [4, 5, 6, 7]])"
      ]
     },
     "execution_count": 13,
     "metadata": {},
     "output_type": "execute_result"
    }
   ],
   "source": [
    "np.array([np.arange(4),np.arange(4,8)])"
   ]
  },
  {
   "cell_type": "markdown",
   "id": "6ad4236c",
   "metadata": {},
   "source": [
    "### 随机数数组\n",
    "##### 随机数\n",
    "numpy.random.random(size)\n",
    "\n",
    "##### 随机种子(固定随机数)\n",
    "np.random.seed(0)\n",
    "\n",
    "##### 随机整数(随机整数)\n",
    "np.random.randint(low, high, size)\n",
    "\n",
    "##### 正态分布 (期望0 方差1)\n",
    "np.random.randn(1)\n",
    "np.random.normal(loc = 3, scale = 4, size = (2,3)) loc期望 scale方差"
   ]
  },
  {
   "cell_type": "code",
   "execution_count": 54,
   "id": "75ee1e7d",
   "metadata": {},
   "outputs": [
    {
     "data": {
      "text/plain": [
       "array([[ 5.57479586,  6.72656321, -3.67479382],\n",
       "       [13.29175553, 16.49885762,  2.6443237 ]])"
      ]
     },
     "execution_count": 54,
     "metadata": {},
     "output_type": "execute_result"
    }
   ],
   "source": [
    "np.random.seed(0)\n",
    "np.random.random((2,5,4))\n",
    "np.random.randint(0, 100, size = 1)\n",
    "np.random.randn(10)\n",
    "np.random.normal(5,5,(2,3))"
   ]
  },
  {
   "cell_type": "markdown",
   "id": "2487d751",
   "metadata": {},
   "source": []
  }
 ],
 "metadata": {
  "kernelspec": {
   "display_name": "base",
   "language": "python",
   "name": "python3"
  },
  "language_info": {
   "codemirror_mode": {
    "name": "ipython",
    "version": 3
   },
   "file_extension": ".py",
   "mimetype": "text/x-python",
   "name": "python",
   "nbconvert_exporter": "python",
   "pygments_lexer": "ipython3",
   "version": "3.12.2"
  }
 },
 "nbformat": 4,
 "nbformat_minor": 5
}
