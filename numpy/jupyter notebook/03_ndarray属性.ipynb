{
 "cells": [
  {
   "cell_type": "code",
   "execution_count": 1,
   "id": "40de57f0",
   "metadata": {},
   "outputs": [],
   "source": [
    "import numpy as np"
   ]
  },
  {
   "cell_type": "code",
   "execution_count": 2,
   "id": "76bf2c49",
   "metadata": {},
   "outputs": [],
   "source": [
    "# 创建一维数组\n",
    "\n",
    "a = np.array([1,2,3,4,5,6,7,8,9])\n",
    "aa = np.array([[1,2,3,4],[5,6,7,8]])\n",
    "aaa = np.random.randn(3,3,3)"
   ]
  },
  {
   "cell_type": "code",
   "execution_count": 3,
   "id": "44115c9e",
   "metadata": {},
   "outputs": [
    {
     "name": "stdout",
     "output_type": "stream",
     "text": [
      "1 2 3\n"
     ]
    }
   ],
   "source": [
    "print(a.ndim, aa.ndim, aaa.ndim)"
   ]
  },
  {
   "cell_type": "code",
   "execution_count": 4,
   "id": "367d3187",
   "metadata": {},
   "outputs": [
    {
     "name": "stdout",
     "output_type": "stream",
     "text": [
      "(9,) (2, 4) (3, 3, 3)\n"
     ]
    }
   ],
   "source": [
    "print(a.shape, aa.shape, aaa.shape)"
   ]
  },
  {
   "cell_type": "code",
   "execution_count": 5,
   "id": "2d400c74",
   "metadata": {},
   "outputs": [
    {
     "name": "stdout",
     "output_type": "stream",
     "text": [
      "9 8 27\n"
     ]
    }
   ],
   "source": [
    "print(a.size, aa.size, aaa.size)"
   ]
  }
 ],
 "metadata": {
  "kernelspec": {
   "display_name": "base",
   "language": "python",
   "name": "python3"
  },
  "language_info": {
   "codemirror_mode": {
    "name": "ipython",
    "version": 3
   },
   "file_extension": ".py",
   "mimetype": "text/x-python",
   "name": "python",
   "nbconvert_exporter": "python",
   "pygments_lexer": "ipython3",
   "version": "3.12.2"
  }
 },
 "nbformat": 4,
 "nbformat_minor": 5
}
